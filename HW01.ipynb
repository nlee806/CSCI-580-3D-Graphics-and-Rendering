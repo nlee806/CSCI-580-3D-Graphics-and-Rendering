{
 "cells": [
  {
   "cell_type": "code",
   "execution_count": 66,
   "metadata": {
    "scrolled": true
   },
   "outputs": [],
   "source": [
    "from PIL import Image\n",
    "im = Image.new('RGB', [512,512], 0x000000)\n",
    "#print(im.size)\n",
    "width, height = im.size\n",
    "\n",
    "f = open(\"rects\", \"r\")\n",
    "f2 = f.readlines()\n",
    "\n",
    "images = []\n",
    "suprememax = 0\n",
    "minClip = 0\n",
    "maxClipX = width\n",
    "maxClipY = height\n",
    "\n",
    "for q2 in f2:\n",
    "    l2 = q2.split()\n",
    "    if len(l2) == 7:\n",
    "        rgbs = [int(l2[4]), int(l2[5]), int(l2[6]), suprememax]\n",
    "        suprememax = max(rgbs)\n",
    "#print(suprememax)\n",
    "\n",
    "for q in f2:\n",
    "    l = q.split() #xmin, ymin, xmax, ymax, r, g, b\n",
    "    if len(l) == 7:\n",
    "        for w in range(0,4):\n",
    "            if int(l[w]) < minClip: #clip negative values\n",
    "                l[w] = minClip\n",
    "        l[0] = int(l[0])\n",
    "        l[1] = int(l[1])\n",
    "        l[2] = int(l[2])\n",
    "        l[3] = int(l[3])\n",
    "        l[4] = int(round((int(l[4])/int(suprememax))*255))\n",
    "        l[5] = int(round((int(l[5])/int(suprememax))*255))\n",
    "        l[6] = int(round((int(l[6])/int(suprememax))*255))     \n",
    "        images.append(l)\n",
    "f.close()\n",
    "#print(images)\n",
    "\n",
    "#background\n",
    "for y in range(height):\n",
    "    for x in range(width):\n",
    "        im.putpixel((x,y), (128,112,96))\n",
    "\n",
    "#render images\n",
    "for i in images: #xmin, ymin, xmax, ymax, r, g, b\n",
    "    xmin = i[0]\n",
    "    ymin = i[1]\n",
    "    xmax = i[2]\n",
    "    ymax = i[3]\n",
    "    r = i[4]\n",
    "    g = i[5]\n",
    "    b = i[6]\n",
    "    #print(i)\n",
    "    for y in range(ymax-ymin+1):\n",
    "        for x in range(xmax-xmin+1):\n",
    "            if(x+xmin<maxClipX and y+ymin<maxClipY):\n",
    "                im.putpixel((x+xmin,y+ymin), (r,g,b))\n",
    "        \n",
    "#for y in range(32):\n",
    "#    for x in range(32):\n",
    "#        im.putpixel((x,y), (255, 0, 0))\n",
    "\n",
    "#for y in range(32):\n",
    "#    for x in range(32):\n",
    "#        im.putpixel((x+64, y+64), (255,255,0))\n",
    "\n",
    "im = im.save(\"output.ppm\")\n"
   ]
  },
  {
   "cell_type": "code",
   "execution_count": null,
   "metadata": {},
   "outputs": [],
   "source": []
  }
 ],
 "metadata": {
  "kernelspec": {
   "display_name": "Python 3",
   "language": "python",
   "name": "python3"
  },
  "language_info": {
   "codemirror_mode": {
    "name": "ipython",
    "version": 3
   },
   "file_extension": ".py",
   "mimetype": "text/x-python",
   "name": "python",
   "nbconvert_exporter": "python",
   "pygments_lexer": "ipython3",
   "version": "3.7.3"
  }
 },
 "nbformat": 4,
 "nbformat_minor": 2
}
